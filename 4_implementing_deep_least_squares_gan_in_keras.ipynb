{
  "nbformat": 4,
  "nbformat_minor": 0,
  "metadata": {
    "colab": {
      "name": "4-implementing-deep-least-squares-gan-in-keras.ipynb",
      "provenance": [],
      "toc_visible": true,
      "authorship_tag": "ABX9TyMcjzxTTMDNGO+9LIfGySMA",
      "include_colab_link": true
    },
    "kernelspec": {
      "name": "python3",
      "display_name": "Python 3"
    },
    "accelerator": "GPU"
  },
  "cells": [
    {
      "cell_type": "markdown",
      "metadata": {
        "id": "view-in-github",
        "colab_type": "text"
      },
      "source": [
        "<a href=\"https://colab.research.google.com/github/rahiakela/advanced-deep-learning-with-tensorflow-2-and-keras/blob/4-generative-adversarial-networks/4_implementing_deep_least_squares_gan_in_keras.ipynb\" target=\"_parent\"><img src=\"https://colab.research.google.com/assets/colab-badge.svg\" alt=\"Open In Colab\"/></a>"
      ]
    },
    {
      "cell_type": "markdown",
      "metadata": {
        "id": "XFRa3V41yXCB",
        "colab_type": "text"
      },
      "source": [
        "# Implementing Least-squares GAN in Keras"
      ]
    },
    {
      "cell_type": "markdown",
      "metadata": {
        "id": "EgGCA-ERy4cQ",
        "colab_type": "text"
      },
      "source": [
        "We will implement a GAN that learns to produce realistic-looking handwritten digits. We will use the Python neural network library Keras with a TensorFlow backend.\n",
        "\n",
        "Over the course of the training iterations, the Generator learns to turn random noise input into images that look like members of the training data: the MNIST dataset of handwritten digits. \n",
        "\n",
        "<img src='https://github.com/rahiakela/img-repo/blob/master/gans-in-action/gan-network.png?raw=1' width='800'/>\n",
        "\n",
        "Simultaneously, the Discriminator learns to distinguish the fake images produced by the Generator from the genuine ones coming from the training dataset.\n",
        "\n",
        "In deep learning, both the generator and discriminator can be implemented using\n",
        "a suitable neural network architecture. If the data or signal is an image, both the generator and discriminator networks will use a CNN. For single-dimensional\n",
        "sequences such as audio, both networks are usually recurrent (RNN, LSTM, or GRU).\n",
        "\n",
        "<img src='https://github.com/rahiakela/img-repo/blob/master/dcgan-model.png?raw=1' width='800'/>\n",
        "\n",
        "DCGAN implements the following design principles:\n",
        "\n",
        "* Use strides > 1, and a convolution instead of MaxPooling2D or UpSampling2D.\n",
        "With strides > 1, the CNN learns how to resize the feature maps.\n",
        "\n",
        "* Avoid using Dense layers. **Use CNN in all layers**. The Dense layer is utilized only as the first layer of the generator to accept the z-vector. The output of the Dense layer is resized and becomes the input of the succeeding CNN\n",
        "layers.\n",
        "\n",
        "* Use **Batch Normalization (BN)** to stabilize learning by normalizing the input to each layer to have zero mean and unit variance. There is no BN in the\n",
        "generator output layer and discriminator input layer. In the implementation\n",
        "example to be presented here, no batch normalization is used in the\n",
        "discriminator.\n",
        "\n",
        "* **Rectified Linear Unit (ReLU)** is used in all layers of the generator except in the output layer, where the tanh activation is utilized. In the implementation example to be presented here, sigmoid is used instead of tanh in the output of the generator since it generally results in more stable training for MNIST digits.\n",
        "\n",
        "* **Rectified Linear Unit (ReLU)** is used in all layers of the generator except in the output layer, where the tanh activation is utilized. In the implementation example to be presented here, sigmoid is used instead of tanh in the output of the generator since it generally results in more stable training for MNIST digits.\n",
        "\n",
        "* Use **Leaky ReLU** in all layers of the discriminator. Unlike ReLU, instead\n",
        "of zeroing out all outputs when the input is less than zero, Leaky ReLU\n",
        "generates a small gradient equal to alpha x input. In the following example,\n",
        "alpha = 0.2."
      ]
    },
    {
      "cell_type": "markdown",
      "metadata": {
        "id": "a16cMAR3jolN",
        "colab_type": "text"
      },
      "source": [
        "## LSGAN implementation using Keras"
      ]
    },
    {
      "cell_type": "markdown",
      "metadata": {
        "id": "F11jo0Gkjo7-",
        "colab_type": "text"
      },
      "source": [
        "LSGAN proposes the least squares loss. It demonstrates why the use of\n",
        "a sigmoid cross-entropy loss in GANs results in poorly generated data quality:\n",
        "\n",
        "<img src='https://github.com/rahiakela/img-repo/blob/master/LSGAN.png?raw=1' width='800'/>\n",
        "\n",
        "Ideally, the fake sample distribution should be as close as possible to the true\n",
        "samples' distribution. However, for GANs, once the fake samples are already on\n",
        "the correct side of the decision boundary, the gradients vanish.\n",
        "\n",
        "This prevents the generator from having enough motivation to improve the\n",
        "quality of the generated fake data. Fake samples far from the decision boundary\n",
        "will no longer attempt to move closer to the true samples' distribution.\n",
        "\n",
        "Using the least squares loss function, the gradients do not vanish as long as the fake sample distribution is far from the real samples' distribution. The generator will strive to improve its estimate of real density distribution even if the fake samples are already on the correct side of the decision boundary.\n",
        "\n",
        "Both the discriminator and adversarial loss functions are replaced by mse. All the network parameters are the same as in DCGAN. The network model of LSGAN\n",
        "in tf.keras is similar to WGAN except that there is linear or no output\n",
        "activation. The training process is similar to that seen in DCGAN and is provided by the utility function.\n",
        "\n",
        "\n"
      ]
    },
    {
      "cell_type": "markdown",
      "metadata": {
        "id": "FMFaRsxq0Dcq",
        "colab_type": "text"
      },
      "source": [
        "## Setup"
      ]
    },
    {
      "cell_type": "code",
      "metadata": {
        "id": "ripW-zhr0Erm",
        "colab_type": "code",
        "colab": {}
      },
      "source": [
        "from __future__ import absolute_import, division, print_function, unicode_literals\n",
        "\n",
        "try:\n",
        "  # %tensorflow_version only exists in Colab.\n",
        "  %tensorflow_version 2.x\n",
        "except Exception:\n",
        "  pass\n",
        "import tensorflow as tf\n",
        "from tensorflow import keras\n",
        "\n",
        "from tensorflow.keras.layers import Activation, Dense, Input\n",
        "from tensorflow.keras.layers import Conv2D, Flatten\n",
        "from tensorflow.keras.layers import Reshape, Conv2DTranspose\n",
        "from tensorflow.keras.layers import LeakyReLU\n",
        "from tensorflow.keras.layers import BatchNormalization\n",
        "from tensorflow.keras.optimizers import RMSprop\n",
        "from tensorflow.keras.models import Model\n",
        "from tensorflow.keras.datasets import mnist\n",
        "from tensorflow.keras.models import load_model\n",
        "from tensorflow.keras import backend as K\n",
        "\n",
        "from tensorflow.keras.datasets import  mnist\n",
        "\n",
        "import numpy as np\n",
        "import pandas as pd\n",
        "import math\n",
        "import os\n",
        "\n",
        "import matplotlib.pyplot as plt"
      ],
      "execution_count": 0,
      "outputs": []
    },
    {
      "cell_type": "markdown",
      "metadata": {
        "id": "kODT4P_oGJsm",
        "colab_type": "text"
      },
      "source": [
        "##  Implementing the Generator"
      ]
    },
    {
      "cell_type": "code",
      "metadata": {
        "id": "rQxZmD8hGHMY",
        "colab_type": "code",
        "colab": {}
      },
      "source": [
        "def build_generator(inputs, image_size, activation='sigmoid', labels=None, codes=None):\n",
        "\n",
        "    image_resize = image_size // 4\n",
        "    # network parameters\n",
        "    kernel_size = 5\n",
        "    layer_filters = [128, 64, 32, 1]\n",
        "\n",
        "    if labels is not None:\n",
        "        if codes is None:\n",
        "            # ACGAN labels\n",
        "            # concatenate z noise vector and one-hot labels\n",
        "            inputs = [inputs, labels]\n",
        "        else:\n",
        "            # infoGAN codes\n",
        "            # concatenate z noise vector, \n",
        "            # one-hot labels and codes 1 & 2\n",
        "            inputs = [inputs, labels] + codes\n",
        "        x = concatenate(inputs, axis=1)\n",
        "    elif codes is not None:\n",
        "        # generator 0 of StackedGAN\n",
        "        inputs = [inputs, codes]\n",
        "        x = concatenate(inputs, axis=1)\n",
        "    else:\n",
        "        # default input is just 100-dim noise (z-code)\n",
        "        x = inputs\n",
        "\n",
        "    x = Dense(image_resize * image_resize * layer_filters[0])(x)\n",
        "    x = Reshape((image_resize, image_resize, layer_filters[0]))(x)\n",
        "\n",
        "    for filters in layer_filters:\n",
        "        # first two convolution layers use strides = 2\n",
        "        # the last two use strides = 1\n",
        "        if filters > layer_filters[-2]:\n",
        "            strides = 2\n",
        "        else:\n",
        "            strides = 1\n",
        "        x = BatchNormalization()(x)\n",
        "        x = Activation('relu')(x)\n",
        "        x = Conv2DTranspose(filters=filters,\n",
        "                            kernel_size=kernel_size,\n",
        "                            strides=strides,\n",
        "                            padding='same')(x)\n",
        "\n",
        "    if activation is not None:\n",
        "        x = Activation(activation)(x)\n",
        "\n",
        "    # generator output is the synthesized image x\n",
        "    return Model(inputs, x, name='generator')"
      ],
      "execution_count": 0,
      "outputs": []
    },
    {
      "cell_type": "markdown",
      "metadata": {
        "id": "srEYzgpMH4cX",
        "colab_type": "text"
      },
      "source": [
        "## Implementing the Discriminator"
      ]
    },
    {
      "cell_type": "code",
      "metadata": {
        "id": "E0oe05jiHyVh",
        "colab_type": "code",
        "colab": {}
      },
      "source": [
        "def build_discriminator(inputs, activation='sigmoid', num_labels=None, num_codes=None):\n",
        "    \n",
        "    kernel_size = 5\n",
        "    layer_filters = [32, 64, 128, 256]\n",
        "\n",
        "    x = inputs\n",
        "    for filters in layer_filters:\n",
        "        # first 3 convolution layers use strides = 2\n",
        "        # last one uses strides = 1\n",
        "        if filters == layer_filters[-1]:\n",
        "            strides = 1\n",
        "        else:\n",
        "            strides = 2\n",
        "        x = LeakyReLU(alpha=0.2)(x)\n",
        "        x = Conv2D(filters=filters,\n",
        "                   kernel_size=kernel_size,\n",
        "                   strides=strides,\n",
        "                   padding='same')(x)\n",
        "\n",
        "    x = Flatten()(x)\n",
        "    # default output is probability that the image is real\n",
        "    outputs = Dense(1)(x)\n",
        "    if activation is not None:\n",
        "        print(activation)\n",
        "        outputs = Activation(activation)(outputs)\n",
        "\n",
        "    if num_labels:\n",
        "        # ACGAN and InfoGAN have 2nd output\n",
        "        # 2nd output is 10-dim one-hot vector of label\n",
        "        layer = Dense(layer_filters[-2])(x)\n",
        "        labels = Dense(num_labels)(layer)\n",
        "        labels = Activation('softmax', name='label')(labels)\n",
        "        if num_codes is None:\n",
        "            outputs = [outputs, labels]\n",
        "        else:\n",
        "            # InfoGAN have 3rd and 4th outputs\n",
        "            # 3rd output is 1-dim continous Q of 1st c given x\n",
        "            code1 = Dense(1)(layer)\n",
        "            code1 = Activation('sigmoid', name='code1')(code1)\n",
        "\n",
        "            # 4th output is 1-dim continuous Q of 2nd c given x\n",
        "            code2 = Dense(1)(layer)\n",
        "            code2 = Activation('sigmoid', name='code2')(code2)\n",
        "\n",
        "            outputs = [outputs, labels, code1, code2]\n",
        "    elif num_codes is not None:\n",
        "        # StackedGAN Q0 output\n",
        "        # z0_recon is reconstruction of z0 normal distribution\n",
        "        z0_recon =  Dense(num_codes)(x)\n",
        "        z0_recon = Activation('tanh', name='z0')(z0_recon)\n",
        "        outputs = [outputs, z0_recon]\n",
        "\n",
        "    return Model(inputs, outputs, name='discriminator')"
      ],
      "execution_count": 0,
      "outputs": []
    },
    {
      "cell_type": "markdown",
      "metadata": {
        "id": "SOoOHZbwJkiF",
        "colab_type": "text"
      },
      "source": [
        "## Building and Training GAN model"
      ]
    },
    {
      "cell_type": "markdown",
      "metadata": {
        "id": "IIg89es2JliY",
        "colab_type": "text"
      },
      "source": [
        "Due to custom training, the usual fit() function is not going\n",
        "to be used. Instead, train_on_batch() is called up to run a single gradient update for the given batch of data. The generator is then trained via an adversarial network.\n",
        "\n",
        "The training first randomly picks a batch of real images from the dataset. This is labeled as real (1.0). Then, a batch of fake images will be generated by the generator. This is labeled as fake (0.0). The two batches are concatenated and are used to train the discriminator.\n",
        "\n",
        "After this is complete, a new batch of fake images will be generated by the generator and labeled as real (1.0). This batch will be used to train the adversarial network. The two networks are trained alternately for about 40,000 steps. At regular intervals, the generated MNIST digits based on a certain noise vector are saved on the filesystem. At the last training step, the network has converged."
      ]
    },
    {
      "cell_type": "code",
      "metadata": {
        "id": "rt5eunwEJgHQ",
        "colab_type": "code",
        "colab": {}
      },
      "source": [
        "def train(models, x_train, params):\n",
        "  # the GAN component models\n",
        "  generator, discriminator, adversarial = models\n",
        "\n",
        "  # network parameters\n",
        "  (batch_size, latent_size, n_critic, clip_value, train_steps, model_name) = params\n",
        "\n",
        "  # the generator image is saved every 500 steps\n",
        "  save_interval = 500\n",
        "\n",
        "  # noise vector to see how the generator output evolves during training\n",
        "  noise_input = np.random.uniform(-1.0, 1.0, size=[16, latent_size])\n",
        "\n",
        "  # number of elements in train dataset\n",
        "  train_size = x_train.shape[0]\n",
        "  # labels for real data\n",
        "  real_labels = np.ones((batch_size, 1))\n",
        "\n",
        "  for i in range(train_steps):\n",
        "    # train discriminator n_critic times\n",
        "    loss = 0\n",
        "    acc = 0\n",
        "    for _ in range(n_critic):\n",
        "      ### train the discriminator for 1 batch ###\n",
        "      '''\n",
        "      1 batch of real (label=1.0) and fake images (label=0.0) and randomly pick real images from dataset\n",
        "      '''\n",
        "      rand_indexes = np.random.randint(0, train_size, size=batch_size)\n",
        "      real_images = x_train[rand_indexes]\n",
        "\n",
        "      ### generate fake images from noise using generator ###\n",
        "      # generate noise using uniform distribution\n",
        "      noise = np.random.uniform(-1.0, 1.0, size=[batch_size, latent_size])\n",
        "\n",
        "      # generate fake images\n",
        "      fake_images = generator.predict(noise)\n",
        "\n",
        "      # train the discriminator network\n",
        "      '''\n",
        "      real data label=1, fake data label=-1 instead of 1 combined batch of real and fake images,\n",
        "      train with 1 batch of real data first, then 1 batch of fake images.\n",
        "      this tweak prevents the gradient from vanishing due to opposite\n",
        "      signs of real and fake data labels (i.e. +1 and -1) and small magnitude of weights due to clipping.\n",
        "      '''\n",
        "      real_loss, real_acc = discriminator.train_on_batch(real_images, real_labels)\n",
        "      fake_loss, fake_acc = discriminator.train_on_batch(fake_images, -real_labels)\n",
        "      # accumulate average loss and accuracy\n",
        "      loss += 0.5 * (real_loss + fake_loss)\n",
        "      acc += 0.5 * (real_acc + fake_acc)\n",
        "\n",
        "      # clip discriminator weights to satisfy Lipschitz constraint\n",
        "      for layer in discriminator.layers:\n",
        "        weights = layer.get_weights()\n",
        "        weights = [np.clip(weight, -clip_value, clip_value) for weight in weights]\n",
        "        layer.set_weights(weights)\n",
        "\n",
        "    # average loss and accuracy per n_critic training iterations\n",
        "    loss /= n_critic\n",
        "    acc /= n_critic\n",
        "    log = \"%d: [discriminator loss: %f, acc: %f]\" % (i, loss, acc)\n",
        "\n",
        "    ### train the adversarial network for 1 batch ###\n",
        "    '''\n",
        "    1 batch of fake images with label=1.0 since the discriminator weights are frozen in adversarial network only the generator is trained\n",
        "    '''\n",
        "    #  generate noise using uniform distribution\n",
        "    noise = np.random.uniform(-1.0, 1.0, size=[batch_size, latent_size])\n",
        "\n",
        "    ### train the adversarial network ###\n",
        "    ''' \n",
        "    Note that unlike in discriminator training, we do not save the fake images in a variable the fake images go \n",
        "    to the discriminator input of the adversarial for classification\n",
        "    '''\n",
        "    # log the loss and accuracy\n",
        "    loss, acc = adversarial.train_on_batch(noise, real_labels)\n",
        "    log = \"%s [adversarial loss: %f, accuracy: %f]\" % (log, loss, acc)\n",
        "    print(log)\n",
        "\n",
        "    if (i + 1) % save_interval == 0:\n",
        "      # plot generator images on a periodic basis\n",
        "      plot_images(generator, noise_input, show=True, step=(i + 1), model_name=model_name)\n",
        "\n",
        "  '''\n",
        "  save the model after training the generator, the trained generator can be reloaded for future MNIST digit generation\n",
        "  '''\n",
        "  generator.save(model_name + '.h5')\n",
        "\n",
        "def plot_images(generator, noise_input, show=False, step=0, model_name='gan'):\n",
        "  os.makedirs(model_name, exist_ok=True)\n",
        "  filename = os.path.join(model_name, \"%05d.png\" % step)\n",
        "  images = generator.predict(noise_input)\n",
        "  plt.figure(figsize=(2.2, 2.2))\n",
        "  num_images = images.shape[0]\n",
        "  image_size = images.shape[1]\n",
        "  rows = int(math.sqrt(noise_input.shape[0]))\n",
        "  for i in range(num_images):\n",
        "      plt.subplot(rows, rows, i + 1)\n",
        "      image = np.reshape(images[i], [image_size, image_size])\n",
        "      plt.imshow(image, cmap='gray')\n",
        "      plt.axis('off')\n",
        "  plt.savefig(filename)\n",
        "  if show:\n",
        "      plt.show()\n",
        "  else:\n",
        "      plt.close('all')\n",
        "\n",
        "def wasserstein_loss(y_label, y_pred):\n",
        "    return -K.mean(y_label * y_pred)"
      ],
      "execution_count": 0,
      "outputs": []
    },
    {
      "cell_type": "markdown",
      "metadata": {
        "id": "goXuz4XWMzbS",
        "colab_type": "text"
      },
      "source": [
        "Now let's build GAN models. Firstly, the discriminator model is built and, following on from that, the generator model is instantiated. The adversarial model is just the generator and the discriminator put together. Across many GANs, the batch size of 64 appears to be the most common."
      ]
    },
    {
      "cell_type": "code",
      "metadata": {
        "id": "WRB4XOL6MyfM",
        "colab_type": "code",
        "colab": {}
      },
      "source": [
        "def build_and_train_models():\n",
        "  # load MNIST dataset\n",
        "  (x_train, _), (_, _) = mnist.load_data()\n",
        "\n",
        "  # reshape data for CNN as (28, 28, 1) and normalize\n",
        "  image_size = x_train.shape[1]\n",
        "  x_train = np.reshape(x_train, [-1, image_size, image_size, 1])\n",
        "  x_train = x_train.astype('float32') / 255\n",
        "\n",
        "  model_name = 'lsgan_mnist'\n",
        "\n",
        "  # network parameters, the latent or z vector is 100-dim\n",
        "  latent_size = 100\n",
        "  # hyper parameters from WGAN paper\n",
        "  n_critic = 5\n",
        "  clip_value = 0.01\n",
        "  batch_size = 64\n",
        "  train_steps = 40000\n",
        "  lr = 2e-4\n",
        "  decay = 6e-8\n",
        "  input_shape = (image_size, image_size, 1)\n",
        "\n",
        "  ### build discriminator model ###\n",
        "  inputs = Input(shape=input_shape, name='discriminator_input')\n",
        "  # WGAN uses linear activation in paper\n",
        "  discriminator = build_discriminator(inputs, activation=None)\n",
        "  # original paper uses Adam, but discriminator converges easily with RMSprop\n",
        "  optimizer = RMSprop(learning_rate=lr)\n",
        "  # LSGAN uses MSE loss [2]\n",
        "  discriminator.compile(loss='mse', optimizer=optimizer, metrics=['accuracy'])\n",
        "  discriminator.summary()\n",
        "\n",
        "  ### build generator model ###\n",
        "  input_shape = (latent_size, )\n",
        "  inputs = Input(shape=input_shape, name='z_input')\n",
        "  generator = build_generator(inputs, image_size)\n",
        "  generator.summary()\n",
        "\n",
        "  ### build adversarial model ###\n",
        "  #  freeze the weights of discriminator during adversarial training\n",
        "  discriminator.trainable = False\n",
        "\n",
        "  # adversarial = generator + discriminator\n",
        "  adversarial = Model(inputs, discriminator(generator(inputs)), name=model_name)\n",
        "  # LSGAN uses MSE loss\n",
        "  adversarial.compile(loss='mse', optimizer=optimizer, metrics=['accuracy'])\n",
        "  adversarial.summary()\n",
        "\n",
        "  # train discriminator and adversarial networks\n",
        "  models = (generator, discriminator, adversarial)\n",
        "  params = (batch_size, latent_size, n_critic, clip_value, train_steps, model_name)\n",
        "  train(models, x_train, params)"
      ],
      "execution_count": 0,
      "outputs": []
    },
    {
      "cell_type": "markdown",
      "metadata": {
        "id": "Nw9h1AbuTt0-",
        "colab_type": "text"
      },
      "source": [
        "The DCGAN models are straightforward. What makes them difficult to build is the fact that small changes in the network design can easily break the training convergence. For example, if batch normalization is used in the discriminator, or if strides = 2 in the generator is transferred to the latter CNN layers, DCGAN will fail to converge."
      ]
    },
    {
      "cell_type": "code",
      "metadata": {
        "id": "tDU8617NT3ri",
        "colab_type": "code",
        "colab": {}
      },
      "source": [
        "build_and_train_models()"
      ],
      "execution_count": 0,
      "outputs": []
    },
    {
      "cell_type": "markdown",
      "metadata": {
        "id": "gFBde6cGWs4_",
        "colab_type": "text"
      },
      "source": [
        "## Testing the model"
      ]
    },
    {
      "cell_type": "code",
      "metadata": {
        "id": "2HTHLeNjVa4Q",
        "colab_type": "code",
        "outputId": "0c30310c-37c5-434f-d6f0-8c285c2ad565",
        "colab": {
          "base_uri": "https://localhost:8080/",
          "height": 167
        }
      },
      "source": [
        "def test_generator(generator):\n",
        "  noise_input = np.random.uniform(-1.0, 1.0, size=[16, 100])\n",
        "\n",
        "  plot_images(generator, noise_input=noise_input, show=True, model_name=\"test_outputs\")\n",
        "\n",
        "# load saved model\n",
        "generator = load_model('lsgan_mnist.h5')\n",
        "test_generator(generator)"
      ],
      "execution_count": 7,
      "outputs": [
        {
          "output_type": "stream",
          "text": [
            "WARNING:tensorflow:No training configuration found in the save file, so the model was *not* compiled. Compile it manually.\n"
          ],
          "name": "stdout"
        },
        {
          "output_type": "display_data",
          "data": {
            "image/png": "[encoded data removed]",
            "text/plain": [
              "<Figure size 158.4x158.4 with 16 Axes>"
            ]
          },
          "metadata": {
            "tags": [],
            "needs_background": "light"
          }
        }
      ]
    },
    {
      "cell_type": "markdown",
      "metadata": {
        "id": "mwpmoWlzdf6L",
        "colab_type": "text"
      },
      "source": [
        "## Conclusion"
      ]
    },
    {
      "cell_type": "markdown",
      "metadata": {
        "id": "dAm0Tpeodg0l",
        "colab_type": "text"
      },
      "source": [
        "With the use of MSE or L2, we addressed the twin problems of training the stability and perceptive quality of the GANs."
      ]
    }
  ]
}